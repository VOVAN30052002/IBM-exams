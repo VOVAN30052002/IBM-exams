{
 "cells": [
  {
   "cell_type": "markdown",
   "metadata": {},
   "source": [
    "# Sampling"
   ]
  },
  {
   "cell_type": "code",
   "execution_count": 1,
   "metadata": {},
   "outputs": [],
   "source": [
    "import pandas as pd\n",
    "import numpy as np\n",
    "\n",
    "pd.set_option('display.max_columns', 500)"
   ]
  },
  {
   "cell_type": "code",
   "execution_count": 2,
   "metadata": {},
   "outputs": [],
   "source": [
    "def sample(df, frac):\n",
    "    \n",
    "    srch_ids = np.unique(df['srch_id'].values)\n",
    "    number = int(len(srch_ids) *frac)\n",
    "    print(number)\n",
    "    \n",
    "    np.random.seed(1)\n",
    "    random_srch_ids = list(np.random.choice(srch_ids, number, replace=False))\n",
    "#     print(random_srch_ids)\n",
    "    df_new = df[df['srch_id'].isin(random_srch_ids)]\n",
    "    \n",
    "    return df_new"
   ]
  },
  {
   "cell_type": "code",
   "execution_count": 8,
   "metadata": {},
   "outputs": [],
   "source": [
    "def save_df(df, name):\n",
    "    \n",
    "    path = name + '_sample.csv'\n",
    "    df.to_csv(path, index=False)\n",
    "    \n",
    "    return None"
   ]
  },
  {
   "cell_type": "code",
   "execution_count": 9,
   "metadata": {},
   "outputs": [],
   "source": [
    "def down_sample_negative(df):\n",
    "    \n",
    "    df_booked = df[df['booking_bool'] == 1]\n",
    "    df_clicked = df[df['click_bool'] == 1]\n",
    "    number = df_booked.shape[0] + df_clicked.shape[0]\n",
    "    df_not = df[df['booking_bool']==0]\n",
    "    df_not = df_not[df_not['click_bool']==0].sample(n=number)\n",
    "    \n",
    "    df_new = pd.concat([df_booked, df_clicked])\n",
    "    df_new = pd.concat([df_new, df_not])\n",
    "\n",
    "    \n",
    "    return df_new\n",
    "\n",
    "\n",
    "# train"
   ]
  },
  {
   "cell_type": "code",
   "execution_count": 10,
   "metadata": {},
   "outputs": [],
   "source": [
    "train = pd.read_csv('clean_train_v3.csv')\n",
    "train = down_sample_negative(train)\n",
    "# test = pd.read_csv('../data/test_set_VU_DM.csv')"
   ]
  },
  {
   "cell_type": "code",
   "execution_count": 11,
   "metadata": {},
   "outputs": [],
   "source": [
    "# train = sample(train, 0.1)\n",
    "# test = sample(test, 0.1)"
   ]
  },
  {
   "cell_type": "code",
   "execution_count": 12,
   "metadata": {},
   "outputs": [],
   "source": [
    "save_df(train, 'train_downsampled_v3')\n",
    "# save_df(test, 'test')"
   ]
  },
  {
   "cell_type": "code",
   "execution_count": null,
   "metadata": {},
   "outputs": [],
   "source": [
    "# list(train)"
   ]
  },
  {
   "cell_type": "code",
   "execution_count": null,
   "metadata": {},
   "outputs": [],
   "source": [
    "# len(list(train))"
   ]
  },
  {
   "cell_type": "code",
   "execution_count": null,
   "metadata": {},
   "outputs": [],
   "source": [
    "# def down_sampling negatives(df):\n",
    "    \n",
    "#     df_ = df.values\n",
    "#     srch_ids = np.unique(df['srch_id'].values)\n",
    "#     n = 53\n",
    "    \n",
    "#     for i in range(len(df_)):\n",
    "#         for j in range(len(srch_ids)):\n",
    "#             if df_[i,0] == j and df_[i,n] != 1:\n",
    "                \n",
    "        \n",
    "        "
   ]
  }
 ],
 "metadata": {
  "kernelspec": {
   "display_name": "Python 3",
   "language": "python",
   "name": "python3"
  },
  "language_info": {
   "codemirror_mode": {
    "name": "ipython",
    "version": 3
   },
   "file_extension": ".py",
   "mimetype": "text/x-python",
   "name": "python",
   "nbconvert_exporter": "python",
   "pygments_lexer": "ipython3",
   "version": "3.6.5"
  }
 },
 "nbformat": 4,
 "nbformat_minor": 2
}
